{
 "cells": [
  {
   "cell_type": "code",
   "execution_count": 1,
   "id": "76deafa2-c5ec-4a2d-8fa0-cb0a49de9b56",
   "metadata": {},
   "outputs": [],
   "source": [
    "import sys\n",
    "#import os\n",
    "import pickle\n",
    "import pandas as pd\n",
    "import numpy as np\n",
    "from pyarrow import feather\n",
    "from scipy import sparse\n",
    "from queue import Queue\n",
    "from tqdm import tqdm\n",
    "import itertools\n",
    "#import concurrent\n",
    "import multiprocessing"
   ]
  },
  {
   "cell_type": "code",
   "execution_count": 2,
   "id": "9f49624b-8085-45b7-a8e9-de8b25a364d2",
   "metadata": {},
   "outputs": [],
   "source": [
    "knn_arr = np.load(\"knn_ticker.npy\")"
   ]
  },
  {
   "cell_type": "code",
   "execution_count": 3,
   "id": "eb8e718a",
   "metadata": {
    "collapsed": false,
    "jupyter": {
     "outputs_hidden": false
    }
   },
   "outputs": [],
   "source": [
    "from firebase import *\n",
    "import numpy as np"
   ]
  },
  {
   "cell_type": "code",
   "execution_count": 4,
   "id": "50006515-c613-4b87-bc50-734ad2a1cb3a",
   "metadata": {},
   "outputs": [],
   "source": [
    "fb = firebase()\n",
    "db = fb.get_db()"
   ]
  },
  {
   "cell_type": "code",
   "execution_count": 5,
   "id": "1dae6ffd",
   "metadata": {
    "collapsed": false,
    "jupyter": {
     "outputs_hidden": false
    }
   },
   "outputs": [
    {
     "data": {
      "text/plain": [
       "<google.cloud.firestore_v1.client.Client at 0x7f63e7d8dee0>"
      ]
     },
     "execution_count": 5,
     "metadata": {},
     "output_type": "execute_result"
    }
   ],
   "source": [
    "db"
   ]
  },
  {
   "cell_type": "code",
   "execution_count": 7,
   "id": "f4804a0a",
   "metadata": {
    "collapsed": false,
    "jupyter": {
     "outputs_hidden": false
    }
   },
   "outputs": [
    {
     "data": {
      "text/plain": [
       "update_time {\n",
       "  seconds: 1677624742\n",
       "  nanos: 448452000\n",
       "}"
      ]
     },
     "execution_count": 7,
     "metadata": {},
     "output_type": "execute_result"
    }
   ],
   "source": [
    "ticker_maping_path = \"/mnt/d/data/news/ticker_maping_dict.pkl\"\n",
    "ticker_maping_dict = pickle.load(open(ticker_maping_path, \"rb\"))\n",
    "doc_ref = db.collection('ticker_map').document('dict')\n",
    "doc_ref.set(ticker_maping_dict)"
   ]
  },
  {
   "cell_type": "code",
   "execution_count": 3,
   "id": "c985c483",
   "metadata": {
    "collapsed": false,
    "jupyter": {
     "outputs_hidden": false
    }
   },
   "outputs": [],
   "source": [
    "knn_ref = db.collection(\"knn\").document(\"knn_ticker\")"
   ]
  },
  {
   "cell_type": "code",
   "execution_count": 9,
   "id": "14e49077-8e82-4b45-a1c0-60bb22fb17c6",
   "metadata": {},
   "outputs": [],
   "source": [
    "knn_data = np.load(\"knn_ticker.npy\")"
   ]
  },
  {
   "cell_type": "code",
   "execution_count": 15,
   "id": "0336b19f",
   "metadata": {
    "collapsed": false,
    "jupyter": {
     "outputs_hidden": false
    }
   },
   "outputs": [
    {
     "name": "stderr",
     "output_type": "stream",
     "text": [
      "100%|██████████| 25/25 [07:02<00:00, 16.89s/it]\n"
     ]
    }
   ],
   "source": [
    "from typing import List\n",
    "import os\n",
    "from google.cloud.firestore_v1 import batch\n",
    "from google.cloud.firestore_v1.batch import WriteBatch\n",
    "from google.cloud.firestore_v1.client import Client\n",
    "from concurrent.futures import ThreadPoolExecutor\n",
    "from tqdm import tqdm\n",
    "\n",
    "max_cpus = 12  # Maximum number of CPUs to use\n",
    "batch_size = 500  # Batch size for Firestore writes\n",
    "\n",
    "def insert_data(batch: batch, i: int) -> None:\n",
    "    lc = knn_data[i]\n",
    "    temp_map = {str(j): lc[j] for j in range(len(lc)) if lc[j] != 0}\n",
    "    batch.set(db.collection('knn_news').document(str(i)), temp_map)\n",
    "\n",
    "def process_batch(batch: WriteBatch, indices: List[int]) -> None:\n",
    "    for i in indices:\n",
    "        insert_data(batch, i)\n",
    "\n",
    "with ThreadPoolExecutor(max_workers=min(max_cpus, os.cpu_count())) as executor:\n",
    "    for i in tqdm(range(0, len(knn_data), batch_size)):\n",
    "        batch = db.batch()\n",
    "        process_batch(batch, range(i, min(i + batch_size, len(knn_data))))\n",
    "        batch.commit()\n"
   ]
  },
  {
   "cell_type": "code",
   "execution_count": 14,
   "id": "cf41a67b",
   "metadata": {
    "collapsed": false,
    "jupyter": {
     "outputs_hidden": false
    }
   },
   "outputs": [],
   "source": [
    "n = len(knn_data)\n",
    "base_user_pref_vector = np.zeros(n)"
   ]
  },
  {
   "cell_type": "code",
   "execution_count": 16,
   "id": "5fe1680b-bb65-41fc-9798-cb34d9d0ef8d",
   "metadata": {},
   "outputs": [],
   "source": [
    "def memoize(function):\n",
    "    cache = {}\n",
    "    def wrapper(input):\n",
    "        if input not in cache:\n",
    "            cache[input] = function(input)\n",
    "        return cache[input]\n",
    "    return wrapper\n",
    "\n",
    "@memoize\n",
    "def sic_match(input):\n",
    "    sic_codes = {\n",
    "        '01': 'Agriculture, Forestry, Fishing',\n",
    "        '02': 'Agriculture, Forestry, Fishing',\n",
    "        '07': 'Agriculture, Forestry, Fishing',\n",
    "        '08': 'Agriculture, Forestry, Fishing',\n",
    "        '09': 'Agriculture, Forestry, Fishing',\n",
    "        '10': 'Mining',\n",
    "        '11': 'Mining',\n",
    "        '12': 'Mining',\n",
    "        '13': 'Mining',\n",
    "        '14': 'Mining',\n",
    "        '15': 'Construction',\n",
    "        '16': 'Construction',\n",
    "        '17': 'Construction',\n",
    "        **{f\"{i:02d}\": \"Manufacturing\" for i in range(20, 40)},\n",
    "        **{f\"{i:02d}\": \"Transportation & Public Utilities\" for i in range(40, 50)},\n",
    "        '50': 'Wholesale Trade',\n",
    "        '51': 'Wholesale Trade',\n",
    "        **{f\"{i:02d}\": \"Retail Trade\" for i in range(52, 60)},\n",
    "        **{f\"{i:02d}\": \"Finance, Insurance, Real Estate\" for i in range(60, 68)},\n",
    "        **{f\"{i:02d}\": \"Services\" for i in range(70, 90)},\n",
    "        **{f\"{i:02d}\": \"Public Administration\" for i in range(91, 100)},\n",
    "    }\n",
    "    try:\n",
    "        return sic_codes[input]\n",
    "    except KeyError:\n",
    "        raise ValueError(\"Invalid input. Please enter a two-character string matching a valid SIC code.\")"
   ]
  },
  {
   "cell_type": "code",
   "execution_count": 17,
   "id": "b23b073a-d8b2-4b7b-8000-2ece121b5046",
   "metadata": {},
   "outputs": [
    {
     "name": "stdout",
     "output_type": "stream",
     "text": [
      "Agriculture, Forestry, Fishing\n"
     ]
    }
   ],
   "source": [
    "print(sic_match(\"01\"))"
   ]
  },
  {
   "cell_type": "code",
   "execution_count": null,
   "id": "71585e52-ec26-4b29-98f5-575c2dc21fd6",
   "metadata": {},
   "outputs": [],
   "source": []
  }
 ],
 "metadata": {
  "kernelspec": {
   "display_name": "Python 3 (ipykernel)",
   "language": "python",
   "name": "python3"
  },
  "language_info": {
   "codemirror_mode": {
    "name": "ipython",
    "version": 3
   },
   "file_extension": ".py",
   "mimetype": "text/x-python",
   "name": "python",
   "nbconvert_exporter": "python",
   "pygments_lexer": "ipython3",
   "version": "3.8.15"
  }
 },
 "nbformat": 4,
 "nbformat_minor": 5
}
