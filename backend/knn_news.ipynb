{
 "cells": [
  {
   "cell_type": "code",
   "execution_count": 1,
   "id": "76deafa2-c5ec-4a2d-8fa0-cb0a49de9b56",
   "metadata": {
    "tags": []
   },
   "outputs": [],
   "source": [
    "import sys\n",
    "#import os\n",
    "import pickle\n",
    "import pandas as pd\n",
    "import numpy as np\n",
    "from pyarrow import feather\n",
    "from scipy import sparse\n",
    "from queue import Queue\n",
    "from tqdm import tqdm\n",
    "import itertools\n",
    "#import concurrent\n",
    "import multiprocessing"
   ]
  },
  {
   "cell_type": "code",
   "execution_count": 2,
   "id": "9f49624b-8085-45b7-a8e9-de8b25a364d2",
   "metadata": {},
   "outputs": [],
   "source": [
    "knn_arr = np.load(\"knn_ticker.npy\")"
   ]
  },
  {
   "cell_type": "code",
   "execution_count": 3,
   "id": "eb8e718a",
   "metadata": {
    "collapsed": false,
    "jupyter": {
     "outputs_hidden": false
    }
   },
   "outputs": [],
   "source": [
    "from firebase_helper import *\n",
    "import numpy as np"
   ]
  },
  {
   "cell_type": "code",
   "execution_count": 4,
   "id": "50006515-c613-4b87-bc50-734ad2a1cb3a",
   "metadata": {
    "tags": []
   },
   "outputs": [],
   "source": [
    "fb = firebase_helper()\n",
    "db = fb.get_db()"
   ]
  },
  {
   "cell_type": "code",
   "execution_count": 5,
   "id": "1dae6ffd",
   "metadata": {
    "collapsed": false,
    "jupyter": {
     "outputs_hidden": false
    },
    "tags": []
   },
   "outputs": [
    {
     "data": {
      "text/plain": [
       "<google.cloud.firestore_v1.client.Client at 0x7f571909f730>"
      ]
     },
     "execution_count": 5,
     "metadata": {},
     "output_type": "execute_result"
    }
   ],
   "source": [
    "db"
   ]
  },
  {
   "cell_type": "code",
   "execution_count": 6,
   "id": "de023d6c-e68f-4ad0-87eb-414520854d9e",
   "metadata": {
    "tags": []
   },
   "outputs": [],
   "source": [
    "ticker_map_path = \"/mnt/d/data/news/ticker_maping_dict.pkl\"\n",
    "ticker_map_dict = pickle.load(open(ticker_map_path, \"rb\"))"
   ]
  },
  {
   "cell_type": "code",
   "execution_count": null,
   "id": "f4804a0a",
   "metadata": {
    "collapsed": false,
    "jupyter": {
     "outputs_hidden": false
    }
   },
   "outputs": [],
   "source": [
    "#overwrite ticker mapping on db\n",
    "doc_ref = db.collection('ticker_map').document('dict')\n",
    "doc_ref.set(ticker_map_dict)"
   ]
  },
  {
   "cell_type": "code",
   "execution_count": null,
   "id": "c985c483",
   "metadata": {
    "collapsed": false,
    "jupyter": {
     "outputs_hidden": false
    }
   },
   "outputs": [],
   "source": [
    "knn_ref = db.collection(\"knn\").document(\"knn_ticker\")"
   ]
  },
  {
   "cell_type": "code",
   "execution_count": null,
   "id": "14e49077-8e82-4b45-a1c0-60bb22fb17c6",
   "metadata": {},
   "outputs": [],
   "source": [
    "knn_data = np.load(\"knn_ticker.npy\")"
   ]
  },
  {
   "cell_type": "code",
   "execution_count": null,
   "id": "0336b19f",
   "metadata": {
    "collapsed": false,
    "jupyter": {
     "outputs_hidden": false
    }
   },
   "outputs": [],
   "source": [
    "from typing import List\n",
    "import os\n",
    "from google.cloud.firestore_v1 import batch\n",
    "from google.cloud.firestore_v1.batch import WriteBatch\n",
    "from google.cloud.firestore_v1.client import Client\n",
    "from concurrent.futures import ThreadPoolExecutor\n",
    "from tqdm import tqdm\n",
    "\n",
    "max_cpus = 12  # Maximum number of CPUs to use\n",
    "batch_size = 500  # Batch size for Firestore writes\n",
    "\n",
    "def insert_data(batch: batch, i: int) -> None:\n",
    "    lc = knn_data[i]\n",
    "    temp_map = {str(j): lc[j] for j in range(len(lc)) if lc[j] != 0}\n",
    "    batch.set(db.collection('knn_news').document(str(i)), temp_map)\n",
    "\n",
    "def process_batch(batch: WriteBatch, indices: List[int]) -> None:\n",
    "    for i in indices:\n",
    "        insert_data(batch, i)\n",
    "\n",
    "with ThreadPoolExecutor(max_workers=min(max_cpus, os.cpu_count())) as executor:\n",
    "    for i in tqdm(range(0, len(knn_data), batch_size)):\n",
    "        batch = db.batch()\n",
    "        process_batch(batch, range(i, min(i + batch_size, len(knn_data))))\n",
    "        batch.commit()\n"
   ]
  },
  {
   "cell_type": "code",
   "execution_count": null,
   "id": "cf41a67b",
   "metadata": {
    "collapsed": false,
    "jupyter": {
     "outputs_hidden": false
    }
   },
   "outputs": [],
   "source": [
    "n = len(knn_data)\n",
    "base_user_pref_vector = np.zeros(n)"
   ]
  },
  {
   "cell_type": "code",
   "execution_count": 24,
   "id": "5fe1680b-bb65-41fc-9798-cb34d9d0ef8d",
   "metadata": {
    "tags": []
   },
   "outputs": [],
   "source": [
    "def memoize(function):\n",
    "    cache = {}\n",
    "    def wrapper(input):\n",
    "        if input not in cache:\n",
    "            cache[input] = function(input)\n",
    "        return cache[input]\n",
    "    return wrapper\n",
    "\n",
    "@memoize\n",
    "def sic_match(input):\n",
    "    sic_codes = {\n",
    "        '01': 'Agriculture, Forestry, Fishing',\n",
    "        '02': 'Agriculture, Forestry, Fishing',\n",
    "        '07': 'Agriculture, Forestry, Fishing',\n",
    "        '08': 'Agriculture, Forestry, Fishing',\n",
    "        '09': 'Agriculture, Forestry, Fishing',\n",
    "        '10': 'Mining',\n",
    "        '11': 'Mining',\n",
    "        '12': 'Mining',\n",
    "        '13': 'Mining',\n",
    "        '14': 'Mining',\n",
    "        '15': 'Construction',\n",
    "        '16': 'Construction',\n",
    "        '17': 'Construction',\n",
    "        **{f\"{i:02d}\": \"Manufacturing\" for i in range(20, 40)},\n",
    "        **{f\"{i:02d}\": \"Transportation & Public Utilities\" for i in range(40, 50)},\n",
    "        '50': 'Wholesale Trade',\n",
    "        '51': 'Wholesale Trade',\n",
    "        **{f\"{i:02d}\": \"Retail Trade\" for i in range(52, 60)},\n",
    "        **{f\"{i:02d}\": \"Finance, Insurance, Real Estate\" for i in range(60, 68)},\n",
    "        **{f\"{i:02d}\": \"Services\" for i in range(70, 90)},\n",
    "        **{f\"{i:02d}\": \"Public Administration\" for i in range(91, 100)},\n",
    "    }\n",
    "    try:\n",
    "        return sic_codes[input]\n",
    "    except KeyError:\n",
    "        raise ValueError(\"Invalid input. Please enter a two-character string matching a valid SIC code.\")"
   ]
  },
  {
   "cell_type": "code",
   "execution_count": null,
   "id": "b23b073a-d8b2-4b7b-8000-2ece121b5046",
   "metadata": {},
   "outputs": [],
   "source": [
    "print(sic_match(\"01\"))"
   ]
  },
  {
   "cell_type": "code",
   "execution_count": 7,
   "id": "71585e52-ec26-4b29-98f5-575c2dc21fd6",
   "metadata": {
    "tags": []
   },
   "outputs": [],
   "source": [
    "#base imports\n",
    "import os\n",
    "import sys\n",
    "parent_dir = os.path.abspath(os.path.join(os.getcwd(), \"..\"))\n",
    "sys.path.append(parent_dir)\n",
    "poly_dir = os.path.abspath(os.path.join(os.getcwd(), 'data_poly'))\n",
    "sys.path.append(poly_dir)\n",
    "import warnings\n",
    "warnings.simplefilter(action='ignore', category=FutureWarning)\n",
    "import itertools\n",
    "\n",
    "# package imports\n",
    "import pandas as pd\n",
    "pd.options.mode.chained_assignment = None\n",
    "import numpy as np\n",
    "from tqdm import tqdm\n",
    "import pyarrow.feather as feather\n",
    "\n",
    "# local imports\n",
    "import data_poly.poly_getdata as poly_getdata\n",
    "import data_poly.poly_url as poly_url\n",
    "import data_poly.poly_helper as poly_helper"
   ]
  },
  {
   "cell_type": "code",
   "execution_count": 8,
   "id": "742c31d3-2ded-4a63-bf83-966395e88c13",
   "metadata": {
    "tags": []
   },
   "outputs": [],
   "source": [
    "from dotenv import load_dotenv\n",
    "load_dotenv(dotenv_path=\"/home/peterzerg/repos/PeterZergQuant/.ENV\")\n",
    "api_key = os.environ.get(\"POLYGON_APIKEY_MASTER\")"
   ]
  },
  {
   "cell_type": "code",
   "execution_count": 47,
   "id": "deb7f1db-05cd-497e-9a31-ea0cd63a56d0",
   "metadata": {
    "tags": []
   },
   "outputs": [],
   "source": [
    "url_factory = poly_url.StockUrlFactory(api_key)\n",
    "ticker_lc = ticker_map_dict.keys()\n",
    "urls_dict = {ticker: url_factory.ReferenceData.ticker_info(url_factory, ticker) for ticker in ticker_lc}\n",
    "df_dict = await poly_helper.get_data_from_urls(urls_dict)\n",
    "df = pd.concat(df_dict.values())"
   ]
  },
  {
   "cell_type": "code",
   "execution_count": 48,
   "id": "5608f520-781a-4539-b8d8-f9b03f9ecd91",
   "metadata": {
    "tags": []
   },
   "outputs": [],
   "source": [
    "sic_map_dict = {\n",
    "    str(ticker): sic_match(sic_code[:2]) if isinstance(sic_code, str) else None\n",
    "    for ticker, sic_code in zip(df.ticker, df.sic_code)\n",
    "}"
   ]
  },
  {
   "cell_type": "code",
   "execution_count": 45,
   "id": "6abadeda-91ad-4b2c-ac2c-f04534a64166",
   "metadata": {
    "tags": []
   },
   "outputs": [
    {
     "data": {
      "text/plain": [
       "update_time {\n",
       "  seconds: 1679289407\n",
       "  nanos: 860875000\n",
       "}"
      ]
     },
     "execution_count": 45,
     "metadata": {},
     "output_type": "execute_result"
    }
   ],
   "source": [
    "#upload data to db\n",
    "doc_ref = db.collection('ticker_sic_map').document('dict')\n",
    "doc_ref.set(sic_map_dict)"
   ]
  },
  {
   "cell_type": "code",
   "execution_count": 50,
   "id": "d3c4b803-1ea7-4ff2-9608-47c2f278ca89",
   "metadata": {
    "tags": []
   },
   "outputs": [
    {
     "data": {
      "text/plain": [
       "<google.cloud.firestore_v1.collection.CollectionReference at 0x7f56c4e16c70>"
      ]
     },
     "execution_count": 50,
     "metadata": {},
     "output_type": "execute_result"
    }
   ],
   "source": [
    "db.collection(\"user_preferences\")"
   ]
  },
  {
   "cell_type": "code",
   "execution_count": null,
   "id": "52eb4a2b-7cf5-48d1-b60b-273380da9716",
   "metadata": {},
   "outputs": [],
   "source": []
  }
 ],
 "metadata": {
  "kernelspec": {
   "display_name": "Python 3 (ipykernel)",
   "language": "python",
   "name": "python3"
  },
  "language_info": {
   "codemirror_mode": {
    "name": "ipython",
    "version": 3
   },
   "file_extension": ".py",
   "mimetype": "text/x-python",
   "name": "python",
   "nbconvert_exporter": "python",
   "pygments_lexer": "ipython3",
   "version": "3.8.15"
  }
 },
 "nbformat": 4,
 "nbformat_minor": 5
}
