{
 "cells": [
  {
   "cell_type": "code",
   "execution_count": 14,
   "id": "8a332d69-3c95-44a3-8d5d-f9785f9b0765",
   "metadata": {},
   "outputs": [],
   "source": [
    "import sys\n",
    "#import os\n",
    "import pickle\n",
    "import pandas as pd\n",
    "import numpy as np\n",
    "from pyarrow import feather\n",
    "from scipy import sparse\n",
    "from queue import Queue\n",
    "from tqdm import tqdm\n",
    "import itertools\n",
    "#import concurrent\n",
    "import multiprocessing"
   ]
  },
  {
   "cell_type": "code",
   "execution_count": 15,
   "id": "6ebe2b83-8286-4f93-975f-e230d9f3479b",
   "metadata": {},
   "outputs": [],
   "source": [
    "df_snap = feather.read_feather(\"local_snapshot_us_equity\")\n",
    "news_df = feather.read_feather(\"local_us_equity_news\")"
   ]
  },
  {
   "cell_type": "code",
   "execution_count": 16,
   "id": "3d1adabd-429b-48ed-b2ab-b7af976b306a",
   "metadata": {},
   "outputs": [],
   "source": [
    "ticker_arr = df_snap.ticker.to_numpy() # us equity tickers\n",
    "del df_snap\n",
    "ticker_arr.sort()\n",
    "valid_ticker_set = set(ticker_arr)\n",
    "n = len(ticker_arr)\n",
    "ticker_maping = {k: v for v, k in enumerate(ticker_arr)} # dictionary allows for quick lookups of the integer index corresponding to a particular ticker symbol."
   ]
  },
  {
   "cell_type": "code",
   "execution_count": 22,
   "id": "263f51c8-2cca-4205-ac61-456dc94c4ed4",
   "metadata": {},
   "outputs": [
    {
     "name": "stdout",
     "output_type": "stream",
     "text": [
      "CPU times: user 10.7 s, sys: 168 ms, total: 10.9 s\n",
      "Wall time: 10.9 s\n"
     ]
    }
   ],
   "source": [
    "%%time\n",
    "news_lc = news_df.tickers.apply(lambda tickers: np.asarray(set(ticker_maping[tick] for tick in tickers if tick in valid_ticker_set))).values"
   ]
  },
  {
   "cell_type": "code",
   "execution_count": 17,
   "id": "b8ede819-1919-4515-afcf-17eb874a7837",
   "metadata": {},
   "outputs": [],
   "source": [
    "knn_ticker = np.zeros((n,n))\n",
    "def fill_matrix(A):\n",
    "    for sublist in tqdm(A):\n",
    "        lc = np.asarray(itertools.combinations(sublist, 2))\n",
    "        for ele in lc:\n",
    "            knn_ticker[ele[0],ele[1]]+=1"
   ]
  },
  {
   "cell_type": "code",
   "execution_count": 18,
   "id": "bc6f7a2c-7d0d-4305-a0bf-8a1226f632e3",
   "metadata": {},
   "outputs": [
    {
     "name": "stderr",
     "output_type": "stream",
     "text": [
      "100%|██████████████████████████████████████████████████████████████████████████████████████████████████| 819163/819163 [31:28<00:00, 433.80it/s]"
     ]
    },
    {
     "name": "stdout",
     "output_type": "stream",
     "text": [
      "CPU times: user 31min 25s, sys: 2.89 s, total: 31min 28s\n",
      "Wall time: 31min 28s\n"
     ]
    },
    {
     "name": "stderr",
     "output_type": "stream",
     "text": [
      "\n"
     ]
    }
   ],
   "source": [
    "%%time\n",
    "fill_matrix(news_lc)"
   ]
  },
  {
   "cell_type": "code",
   "execution_count": 22,
   "id": "cebe7f7c-ffc5-4b8f-8c75-bb4ba731d2ce",
   "metadata": {},
   "outputs": [],
   "source": [
    "np.save('knn_ticker.npy', knn_ticker)"
   ]
  },
  {
   "cell_type": "code",
   "execution_count": 23,
   "id": "aaa8c01d-7541-4d5c-9014-bfa31761e779",
   "metadata": {},
   "outputs": [
    {
     "data": {
      "text/plain": [
       "1124.6023635864258"
      ]
     },
     "execution_count": 23,
     "metadata": {},
     "output_type": "execute_result"
    }
   ],
   "source": [
    "knn_ticker.nbytes/1024/1024"
   ]
  },
  {
   "cell_type": "code",
   "execution_count": 2,
   "id": "c9b46b5f-730b-4703-9c2e-2e7a852b8dc4",
   "metadata": {},
   "outputs": [],
   "source": [
    "knn_ticker = np.load('knn_ticker.npy')"
   ]
  },
  {
   "cell_type": "code",
   "execution_count": null,
   "id": "4d0d90f0-6553-4576-945c-12aec070a34a",
   "metadata": {},
   "outputs": [],
   "source": []
  },
  {
   "cell_type": "code",
   "execution_count": null,
   "id": "1175c6cf-5976-42e8-9dce-405ea88b9f0b",
   "metadata": {},
   "outputs": [],
   "source": []
  },
  {
   "cell_type": "code",
   "execution_count": 28,
   "id": "615c77a4-6ed6-4617-8f9c-8c5e12b6519f",
   "metadata": {},
   "outputs": [],
   "source": [
    "num_cores = multiprocessing.cpu_count()\n",
    "max_workers = 2 * num_cores\n",
    "\n",
    "def fill_array(knn_ticker_flat, news_lc):\n",
    "    for sublist in tqdm(news_lc):\n",
    "        lc = list(itertools.combinations(sublist, 2))\n",
    "        for ele in lc:\n",
    "            knn_ticker_flat[ele[0]*n+ele[1]] += 1"
   ]
  },
  {
   "cell_type": "code",
   "execution_count": 29,
   "id": "ee383fad-f39d-4659-8b79-087fe032677e",
   "metadata": {},
   "outputs": [
    {
     "name": "stderr",
     "output_type": "stream",
     "text": [
      "  0%|                                                                                                                    | 0/24 [43:28<?, ?it/s]Process Process-17:\n",
      "Process Process-10:\n",
      "Process Process-5:\n",
      "Process Process-12:\n",
      "Process Process-21:\n",
      "Traceback (most recent call last):\n",
      "Traceback (most recent call last):\n",
      "Traceback (most recent call last):\n",
      "Traceback (most recent call last):\n",
      "Traceback (most recent call last):\n",
      "  File \"/home/peterzerg/miniconda3/envs/rapids-22.12/lib/python3.8/multiprocessing/process.py\", line 315, in _bootstrap\n",
      "    self.run()\n",
      "  File \"/home/peterzerg/miniconda3/envs/rapids-22.12/lib/python3.8/multiprocessing/process.py\", line 315, in _bootstrap\n",
      "    self.run()\n",
      "Process Process-14:\n",
      "  File \"/home/peterzerg/miniconda3/envs/rapids-22.12/lib/python3.8/multiprocessing/process.py\", line 108, in run\n",
      "    self._target(*self._args, **self._kwargs)\n",
      "  File \"/home/peterzerg/miniconda3/envs/rapids-22.12/lib/python3.8/multiprocessing/process.py\", line 315, in _bootstrap\n",
      "    self.run()\n",
      "  File \"/home/peterzerg/miniconda3/envs/rapids-22.12/lib/python3.8/multiprocessing/process.py\", line 315, in _bootstrap\n",
      "    self.run()\n",
      "Process Process-4:\n",
      "Process Process-19:\n",
      "Process Process-16:\n",
      "  File \"/home/peterzerg/miniconda3/envs/rapids-22.12/lib/python3.8/multiprocessing/process.py\", line 108, in run\n",
      "    self._target(*self._args, **self._kwargs)\n",
      "  File \"/home/peterzerg/miniconda3/envs/rapids-22.12/lib/python3.8/multiprocessing/process.py\", line 315, in _bootstrap\n",
      "    self.run()\n",
      "Process Process-8:\n",
      "Process Process-18:\n",
      "  File \"/tmp/ipykernel_3088/3714590680.py\", line 8, in fill_array\n",
      "    knn_ticker_flat[ele[0]*n+ele[1]] += 1\n",
      "  File \"/home/peterzerg/miniconda3/envs/rapids-22.12/lib/python3.8/multiprocessing/process.py\", line 108, in run\n",
      "    self._target(*self._args, **self._kwargs)\n",
      "Process Process-20:\n",
      "\n"
     ]
    },
    {
     "ename": "KeyboardInterrupt",
     "evalue": "",
     "output_type": "error",
     "traceback": [
      "\u001b[0;31m---------------------------------------------------------------------------\u001b[0m",
      "\u001b[0;31mKeyboardInterrupt\u001b[0m                         Traceback (most recent call last)",
      "File \u001b[0;32m<timed exec>:15\u001b[0m\n",
      "File \u001b[0;32m~/miniconda3/envs/rapids-22.12/lib/python3.8/multiprocessing/process.py:149\u001b[0m, in \u001b[0;36mBaseProcess.join\u001b[0;34m(self, timeout)\u001b[0m\n\u001b[1;32m    148\u001b[0m \u001b[38;5;28;01massert\u001b[39;00m \u001b[38;5;28mself\u001b[39m\u001b[38;5;241m.\u001b[39m_popen \u001b[38;5;129;01mis\u001b[39;00m \u001b[38;5;129;01mnot\u001b[39;00m \u001b[38;5;28;01mNone\u001b[39;00m, \u001b[38;5;124m'\u001b[39m\u001b[38;5;124mcan only join a started process\u001b[39m\u001b[38;5;124m'\u001b[39m\n\u001b[0;32m--> 149\u001b[0m res \u001b[38;5;241m=\u001b[39m \u001b[38;5;28;43mself\u001b[39;49m\u001b[38;5;241;43m.\u001b[39;49m\u001b[43m_popen\u001b[49m\u001b[38;5;241;43m.\u001b[39;49m\u001b[43mwait\u001b[49m\u001b[43m(\u001b[49m\u001b[43mtimeout\u001b[49m\u001b[43m)\u001b[49m\n\u001b[1;32m    150\u001b[0m \u001b[38;5;28;01mif\u001b[39;00m res \u001b[38;5;129;01mis\u001b[39;00m \u001b[38;5;129;01mnot\u001b[39;00m \u001b[38;5;28;01mNone\u001b[39;00m:\n",
      "File \u001b[0;32m~/miniconda3/envs/rapids-22.12/lib/python3.8/multiprocessing/popen_fork.py:47\u001b[0m, in \u001b[0;36mPopen.wait\u001b[0;34m(self, timeout)\u001b[0m\n\u001b[1;32m     46\u001b[0m     \u001b[38;5;66;03m# This shouldn't block if wait() returned successfully.\u001b[39;00m\n\u001b[0;32m---> 47\u001b[0m     \u001b[38;5;28;01mreturn\u001b[39;00m \u001b[38;5;28;43mself\u001b[39;49m\u001b[38;5;241;43m.\u001b[39;49m\u001b[43mpoll\u001b[49m\u001b[43m(\u001b[49m\u001b[43mos\u001b[49m\u001b[38;5;241;43m.\u001b[39;49m\u001b[43mWNOHANG\u001b[49m\u001b[43m \u001b[49m\u001b[38;5;28;43;01mif\u001b[39;49;00m\u001b[43m \u001b[49m\u001b[43mtimeout\u001b[49m\u001b[43m \u001b[49m\u001b[38;5;241;43m==\u001b[39;49m\u001b[43m \u001b[49m\u001b[38;5;241;43m0.0\u001b[39;49m\u001b[43m \u001b[49m\u001b[38;5;28;43;01melse\u001b[39;49;00m\u001b[43m \u001b[49m\u001b[38;5;241;43m0\u001b[39;49m\u001b[43m)\u001b[49m\n\u001b[1;32m     48\u001b[0m \u001b[38;5;28;01mreturn\u001b[39;00m \u001b[38;5;28mself\u001b[39m\u001b[38;5;241m.\u001b[39mreturncode\n",
      "File \u001b[0;32m~/miniconda3/envs/rapids-22.12/lib/python3.8/multiprocessing/popen_fork.py:27\u001b[0m, in \u001b[0;36mPopen.poll\u001b[0;34m(self, flag)\u001b[0m\n\u001b[1;32m     26\u001b[0m \u001b[38;5;28;01mtry\u001b[39;00m:\n\u001b[0;32m---> 27\u001b[0m     pid, sts \u001b[38;5;241m=\u001b[39m \u001b[43mos\u001b[49m\u001b[38;5;241;43m.\u001b[39;49m\u001b[43mwaitpid\u001b[49m\u001b[43m(\u001b[49m\u001b[38;5;28;43mself\u001b[39;49m\u001b[38;5;241;43m.\u001b[39;49m\u001b[43mpid\u001b[49m\u001b[43m,\u001b[49m\u001b[43m \u001b[49m\u001b[43mflag\u001b[49m\u001b[43m)\u001b[49m\n\u001b[1;32m     28\u001b[0m \u001b[38;5;28;01mexcept\u001b[39;00m \u001b[38;5;167;01mOSError\u001b[39;00m \u001b[38;5;28;01mas\u001b[39;00m e:\n\u001b[1;32m     29\u001b[0m     \u001b[38;5;66;03m# Child process not yet created. See #1731717\u001b[39;00m\n\u001b[1;32m     30\u001b[0m     \u001b[38;5;66;03m# e.errno == errno.ECHILD == 10\u001b[39;00m\n",
      "\u001b[0;31mKeyboardInterrupt\u001b[0m: ",
      "\nDuring handling of the above exception, another exception occurred:\n",
      "\u001b[0;31mKeyboardInterrupt\u001b[0m                         Traceback (most recent call last)",
      "File \u001b[0;32m<timed exec>:15\u001b[0m\n",
      "File \u001b[0;32m~/miniconda3/envs/rapids-22.12/lib/python3.8/multiprocessing/managers.py:673\u001b[0m, in \u001b[0;36mBaseManager.__exit__\u001b[0;34m(self, exc_type, exc_val, exc_tb)\u001b[0m\n\u001b[1;32m    672\u001b[0m \u001b[38;5;28;01mdef\u001b[39;00m \u001b[38;5;21m__exit__\u001b[39m(\u001b[38;5;28mself\u001b[39m, exc_type, exc_val, exc_tb):\n\u001b[0;32m--> 673\u001b[0m     \u001b[38;5;28;43mself\u001b[39;49m\u001b[38;5;241;43m.\u001b[39;49m\u001b[43mshutdown\u001b[49m\u001b[43m(\u001b[49m\u001b[43m)\u001b[49m\n",
      "File \u001b[0;32m~/miniconda3/envs/rapids-22.12/lib/python3.8/multiprocessing/util.py:224\u001b[0m, in \u001b[0;36mFinalize.__call__\u001b[0;34m(self, wr, _finalizer_registry, sub_debug, getpid)\u001b[0m\n\u001b[1;32m    221\u001b[0m \u001b[38;5;28;01melse\u001b[39;00m:\n\u001b[1;32m    222\u001b[0m     sub_debug(\u001b[38;5;124m'\u001b[39m\u001b[38;5;124mfinalizer calling \u001b[39m\u001b[38;5;132;01m%s\u001b[39;00m\u001b[38;5;124m with args \u001b[39m\u001b[38;5;132;01m%s\u001b[39;00m\u001b[38;5;124m and kwargs \u001b[39m\u001b[38;5;132;01m%s\u001b[39;00m\u001b[38;5;124m'\u001b[39m,\n\u001b[1;32m    223\u001b[0m               \u001b[38;5;28mself\u001b[39m\u001b[38;5;241m.\u001b[39m_callback, \u001b[38;5;28mself\u001b[39m\u001b[38;5;241m.\u001b[39m_args, \u001b[38;5;28mself\u001b[39m\u001b[38;5;241m.\u001b[39m_kwargs)\n\u001b[0;32m--> 224\u001b[0m     res \u001b[38;5;241m=\u001b[39m \u001b[38;5;28;43mself\u001b[39;49m\u001b[38;5;241;43m.\u001b[39;49m\u001b[43m_callback\u001b[49m\u001b[43m(\u001b[49m\u001b[38;5;241;43m*\u001b[39;49m\u001b[38;5;28;43mself\u001b[39;49m\u001b[38;5;241;43m.\u001b[39;49m\u001b[43m_args\u001b[49m\u001b[43m,\u001b[49m\u001b[43m \u001b[49m\u001b[38;5;241;43m*\u001b[39;49m\u001b[38;5;241;43m*\u001b[39;49m\u001b[38;5;28;43mself\u001b[39;49m\u001b[38;5;241;43m.\u001b[39;49m\u001b[43m_kwargs\u001b[49m\u001b[43m)\u001b[49m\n\u001b[1;32m    225\u001b[0m \u001b[38;5;28mself\u001b[39m\u001b[38;5;241m.\u001b[39m_weakref \u001b[38;5;241m=\u001b[39m \u001b[38;5;28mself\u001b[39m\u001b[38;5;241m.\u001b[39m_callback \u001b[38;5;241m=\u001b[39m \u001b[38;5;28mself\u001b[39m\u001b[38;5;241m.\u001b[39m_args \u001b[38;5;241m=\u001b[39m \\\n\u001b[1;32m    226\u001b[0m                 \u001b[38;5;28mself\u001b[39m\u001b[38;5;241m.\u001b[39m_kwargs \u001b[38;5;241m=\u001b[39m \u001b[38;5;28mself\u001b[39m\u001b[38;5;241m.\u001b[39m_key \u001b[38;5;241m=\u001b[39m \u001b[38;5;28;01mNone\u001b[39;00m\n\u001b[1;32m    227\u001b[0m \u001b[38;5;28;01mreturn\u001b[39;00m res\n",
      "File \u001b[0;32m~/miniconda3/envs/rapids-22.12/lib/python3.8/multiprocessing/managers.py:691\u001b[0m, in \u001b[0;36mBaseManager._finalize_manager\u001b[0;34m(process, address, authkey, state, _Client)\u001b[0m\n\u001b[1;32m    688\u001b[0m \u001b[38;5;28;01mexcept\u001b[39;00m \u001b[38;5;167;01mException\u001b[39;00m:\n\u001b[1;32m    689\u001b[0m     \u001b[38;5;28;01mpass\u001b[39;00m\n\u001b[0;32m--> 691\u001b[0m \u001b[43mprocess\u001b[49m\u001b[38;5;241;43m.\u001b[39;49m\u001b[43mjoin\u001b[49m\u001b[43m(\u001b[49m\u001b[43mtimeout\u001b[49m\u001b[38;5;241;43m=\u001b[39;49m\u001b[38;5;241;43m1.0\u001b[39;49m\u001b[43m)\u001b[49m\n\u001b[1;32m    692\u001b[0m \u001b[38;5;28;01mif\u001b[39;00m process\u001b[38;5;241m.\u001b[39mis_alive():\n\u001b[1;32m    693\u001b[0m     util\u001b[38;5;241m.\u001b[39minfo(\u001b[38;5;124m'\u001b[39m\u001b[38;5;124mmanager still alive\u001b[39m\u001b[38;5;124m'\u001b[39m)\n",
      "File \u001b[0;32m~/miniconda3/envs/rapids-22.12/lib/python3.8/multiprocessing/process.py:149\u001b[0m, in \u001b[0;36mBaseProcess.join\u001b[0;34m(self, timeout)\u001b[0m\n\u001b[1;32m    147\u001b[0m \u001b[38;5;28;01massert\u001b[39;00m \u001b[38;5;28mself\u001b[39m\u001b[38;5;241m.\u001b[39m_parent_pid \u001b[38;5;241m==\u001b[39m os\u001b[38;5;241m.\u001b[39mgetpid(), \u001b[38;5;124m'\u001b[39m\u001b[38;5;124mcan only join a child process\u001b[39m\u001b[38;5;124m'\u001b[39m\n\u001b[1;32m    148\u001b[0m \u001b[38;5;28;01massert\u001b[39;00m \u001b[38;5;28mself\u001b[39m\u001b[38;5;241m.\u001b[39m_popen \u001b[38;5;129;01mis\u001b[39;00m \u001b[38;5;129;01mnot\u001b[39;00m \u001b[38;5;28;01mNone\u001b[39;00m, \u001b[38;5;124m'\u001b[39m\u001b[38;5;124mcan only join a started process\u001b[39m\u001b[38;5;124m'\u001b[39m\n\u001b[0;32m--> 149\u001b[0m res \u001b[38;5;241m=\u001b[39m \u001b[38;5;28;43mself\u001b[39;49m\u001b[38;5;241;43m.\u001b[39;49m\u001b[43m_popen\u001b[49m\u001b[38;5;241;43m.\u001b[39;49m\u001b[43mwait\u001b[49m\u001b[43m(\u001b[49m\u001b[43mtimeout\u001b[49m\u001b[43m)\u001b[49m\n\u001b[1;32m    150\u001b[0m \u001b[38;5;28;01mif\u001b[39;00m res \u001b[38;5;129;01mis\u001b[39;00m \u001b[38;5;129;01mnot\u001b[39;00m \u001b[38;5;28;01mNone\u001b[39;00m:\n\u001b[1;32m    151\u001b[0m     _children\u001b[38;5;241m.\u001b[39mdiscard(\u001b[38;5;28mself\u001b[39m)\n",
      "File \u001b[0;32m~/miniconda3/envs/rapids-22.12/lib/python3.8/multiprocessing/popen_fork.py:44\u001b[0m, in \u001b[0;36mPopen.wait\u001b[0;34m(self, timeout)\u001b[0m\n\u001b[1;32m     42\u001b[0m \u001b[38;5;28;01mif\u001b[39;00m timeout \u001b[38;5;129;01mis\u001b[39;00m \u001b[38;5;129;01mnot\u001b[39;00m \u001b[38;5;28;01mNone\u001b[39;00m:\n\u001b[1;32m     43\u001b[0m     \u001b[38;5;28;01mfrom\u001b[39;00m \u001b[38;5;21;01mmultiprocessing\u001b[39;00m\u001b[38;5;21;01m.\u001b[39;00m\u001b[38;5;21;01mconnection\u001b[39;00m \u001b[38;5;28;01mimport\u001b[39;00m wait\n\u001b[0;32m---> 44\u001b[0m     \u001b[38;5;28;01mif\u001b[39;00m \u001b[38;5;129;01mnot\u001b[39;00m \u001b[43mwait\u001b[49m\u001b[43m(\u001b[49m\u001b[43m[\u001b[49m\u001b[38;5;28;43mself\u001b[39;49m\u001b[38;5;241;43m.\u001b[39;49m\u001b[43msentinel\u001b[49m\u001b[43m]\u001b[49m\u001b[43m,\u001b[49m\u001b[43m \u001b[49m\u001b[43mtimeout\u001b[49m\u001b[43m)\u001b[49m:\n\u001b[1;32m     45\u001b[0m         \u001b[38;5;28;01mreturn\u001b[39;00m \u001b[38;5;28;01mNone\u001b[39;00m\n\u001b[1;32m     46\u001b[0m \u001b[38;5;66;03m# This shouldn't block if wait() returned successfully.\u001b[39;00m\n",
      "File \u001b[0;32m~/miniconda3/envs/rapids-22.12/lib/python3.8/multiprocessing/connection.py:931\u001b[0m, in \u001b[0;36mwait\u001b[0;34m(object_list, timeout)\u001b[0m\n\u001b[1;32m    928\u001b[0m     deadline \u001b[38;5;241m=\u001b[39m time\u001b[38;5;241m.\u001b[39mmonotonic() \u001b[38;5;241m+\u001b[39m timeout\n\u001b[1;32m    930\u001b[0m \u001b[38;5;28;01mwhile\u001b[39;00m \u001b[38;5;28;01mTrue\u001b[39;00m:\n\u001b[0;32m--> 931\u001b[0m     ready \u001b[38;5;241m=\u001b[39m \u001b[43mselector\u001b[49m\u001b[38;5;241;43m.\u001b[39;49m\u001b[43mselect\u001b[49m\u001b[43m(\u001b[49m\u001b[43mtimeout\u001b[49m\u001b[43m)\u001b[49m\n\u001b[1;32m    932\u001b[0m     \u001b[38;5;28;01mif\u001b[39;00m ready:\n\u001b[1;32m    933\u001b[0m         \u001b[38;5;28;01mreturn\u001b[39;00m [key\u001b[38;5;241m.\u001b[39mfileobj \u001b[38;5;28;01mfor\u001b[39;00m (key, events) \u001b[38;5;129;01min\u001b[39;00m ready]\n",
      "File \u001b[0;32m~/miniconda3/envs/rapids-22.12/lib/python3.8/selectors.py:415\u001b[0m, in \u001b[0;36m_PollLikeSelector.select\u001b[0;34m(self, timeout)\u001b[0m\n\u001b[1;32m    413\u001b[0m ready \u001b[38;5;241m=\u001b[39m []\n\u001b[1;32m    414\u001b[0m \u001b[38;5;28;01mtry\u001b[39;00m:\n\u001b[0;32m--> 415\u001b[0m     fd_event_list \u001b[38;5;241m=\u001b[39m \u001b[38;5;28;43mself\u001b[39;49m\u001b[38;5;241;43m.\u001b[39;49m\u001b[43m_selector\u001b[49m\u001b[38;5;241;43m.\u001b[39;49m\u001b[43mpoll\u001b[49m\u001b[43m(\u001b[49m\u001b[43mtimeout\u001b[49m\u001b[43m)\u001b[49m\n\u001b[1;32m    416\u001b[0m \u001b[38;5;28;01mexcept\u001b[39;00m \u001b[38;5;167;01mInterruptedError\u001b[39;00m:\n\u001b[1;32m    417\u001b[0m     \u001b[38;5;28;01mreturn\u001b[39;00m ready\n",
      "\u001b[0;31mKeyboardInterrupt\u001b[0m: "
     ]
    }
   ],
   "source": [
    "%%time\n",
    "with multiprocessing.Manager() as manager:\n",
    "    knn_ticker_flat = manager.list([0] * (n * n))\n",
    "    process_list = []\n",
    "    chunk_size = len(news_lc)//max_workers\n",
    "    for i in range(max_workers):\n",
    "        if i == max_workers-1:\n",
    "            chunk = news_lc[i*chunk_size:]\n",
    "        else:\n",
    "            chunk = news_lc[i*chunk_size:(i+1)*chunk_size]\n",
    "        p = multiprocessing.Process(target=fill_array, args=(knn_ticker_flat, chunk))\n",
    "        process_list.append(p)\n",
    "        p.start()\n",
    "\n",
    "    for p in tqdm(process_list):\n",
    "        p.join()"
   ]
  },
  {
   "cell_type": "code",
   "execution_count": null,
   "id": "102f60e0-dae4-474f-bfec-14fade0eae6f",
   "metadata": {},
   "outputs": [],
   "source": [
    "#ticker_pairs = news_tickers.apply(lambda tickers: set(itertools.combinations(tickers,2)))# generate ticker pairs"
   ]
  },
  {
   "cell_type": "code",
   "execution_count": null,
   "id": "c6e11367-43fa-4e66-a1c8-45c154e9f5ba",
   "metadata": {},
   "outputs": [],
   "source": [
    "all_news_ticker_pairs = np.concatenate([np.array(list(set_element)) for set_element in ticker_pairs if set_element])# flatten to a big numpy array of tuples"
   ]
  },
  {
   "cell_type": "code",
   "execution_count": null,
   "id": "5b3fbc83-c088-4ebd-a6e1-133d48afbde4",
   "metadata": {},
   "outputs": [],
   "source": [
    "df = pd.DataFrame(all_news_ticker_pairs, columns=['t0', 't1'])"
   ]
  },
  {
   "cell_type": "code",
   "execution_count": null,
   "id": "9f849e68-18d2-4380-85fc-d43a070c400b",
   "metadata": {},
   "outputs": [],
   "source": [
    "df[\"t0_index\"] = df.t0.apply(lambda ticker: ticker_maping[ticker])\n",
    "df[\"t1_index\"] = df.t1.apply(lambda ticker: ticker_maping[ticker])"
   ]
  },
  {
   "cell_type": "code",
   "execution_count": null,
   "id": "2732d771-e42c-4f52-a755-91073e4ffd6e",
   "metadata": {},
   "outputs": [],
   "source": [
    "knn_ticker = np.zeros((n,n))\n",
    "grouped = df.groupby(['t0_index', 't1_index']).size().reset_index(name='count')\n",
    "row_indices = grouped['t0_index'].to_numpy()\n",
    "col_indices = grouped['t1_index'].to_numpy()\n",
    "counts = grouped['count'].to_numpy()\n",
    "knn_ticker[row_indices, col_indices] = counts"
   ]
  },
  {
   "cell_type": "code",
   "execution_count": null,
   "id": "708a2ce5-0624-4225-bc15-01b81cd8808c",
   "metadata": {},
   "outputs": [],
   "source": [
    "d = {v: k for k, v in ticker_maping.items()}\n",
    "knn_news_df.rename(columns=d, inplace=True)\n",
    "knn_news_df.index = d.values()"
   ]
  },
  {
   "cell_type": "code",
   "execution_count": null,
   "id": "6adad671-6eea-4a85-86f5-743e789e9fbe",
   "metadata": {},
   "outputs": [],
   "source": [
    "knn_news_df"
   ]
  },
  {
   "cell_type": "code",
   "execution_count": 66,
   "id": "3cbd98d6-e8fb-4a9d-bb5d-00ab6edf7b36",
   "metadata": {},
   "outputs": [],
   "source": []
  },
  {
   "cell_type": "code",
   "execution_count": null,
   "id": "97cc3c27-c309-42bf-b9bf-c760c8d27e5e",
   "metadata": {},
   "outputs": [],
   "source": []
  },
  {
   "cell_type": "code",
   "execution_count": null,
   "id": "ddcf6980-fa16-4c23-910b-31caeba8c79e",
   "metadata": {},
   "outputs": [],
   "source": []
  },
  {
   "cell_type": "code",
   "execution_count": null,
   "id": "6fb38922-1231-4286-b676-1f9975f8e0a3",
   "metadata": {},
   "outputs": [],
   "source": []
  },
  {
   "cell_type": "code",
   "execution_count": null,
   "id": "d32ec91e-fa32-46d4-ac49-aa0d0a80c6a2",
   "metadata": {},
   "outputs": [],
   "source": []
  },
  {
   "cell_type": "code",
   "execution_count": null,
   "id": "ebec89dc-5732-41f9-aff5-235c7a0d0bc6",
   "metadata": {},
   "outputs": [],
   "source": []
  },
  {
   "cell_type": "code",
   "execution_count": 16,
   "id": "9c4bd08a-f4a4-44a8-86c4-9ac371d1766c",
   "metadata": {},
   "outputs": [
    {
     "name": "stdout",
     "output_type": "stream",
     "text": [
      "max_workers:  24\n"
     ]
    }
   ],
   "source": [
    "batch = target_arr\n",
    "ref = ticker_arr\n",
    "q = Queue()\n",
    "num_cores = multiprocessing.cpu_count()\n",
    "max_workers = 2 * num_cores\n",
    "print(\"max_workers: \",max_workers)"
   ]
  },
  {
   "cell_type": "code",
   "execution_count": 18,
   "id": "d3d0631a-2795-459e-8a99-5b19c522535c",
   "metadata": {},
   "outputs": [
    {
     "name": "stderr",
     "output_type": "stream",
     "text": [
      "100%|███████████████████████████████████████████████████████████████████████████████████████████████████████| 5000/5000 [01:08<00:00, 72.64it/s]"
     ]
    },
    {
     "name": "stdout",
     "output_type": "stream",
     "text": [
      "CPU times: user 1min 48s, sys: 12.2 s, total: 2min\n",
      "Wall time: 1min 54s\n"
     ]
    },
    {
     "name": "stderr",
     "output_type": "stream",
     "text": [
      "\n",
      "<timed exec>:5: VisibleDeprecationWarning: Creating an ndarray from ragged nested sequences (which is a list-or-tuple of lists-or-tuples-or ndarrays with different lengths or shapes) is deprecated. If you meant to do this, you must specify 'dtype=object' when creating the ndarray.\n"
     ]
    }
   ],
   "source": [
    "# same as valid_batch = np.array([array[np.isin(array, ref)] for array in tqdm(batch) if np.any(np.isin(array, ref))]) but save 50% time\n",
    "# estimated runtime for 5000 news is 2 mins on windows conda, same for ubuntu wsl2\n",
    "# the tqdm only displayed half of the time taken for 5000 news\n",
    "%%time\n",
    "def get_valid_array(array):\n",
    "    return array[np.isin(array, ref)]\n",
    "\n",
    "with concurrent.futures.ThreadPoolExecutor(max_workers=max_workers) as executor:\n",
    "    valid_batch0 = np.array(list(tqdm(executor.map(get_valid_array, batch), total=len(batch))), dtype=object)"
   ]
  },
  {
   "cell_type": "code",
   "execution_count": 26,
   "id": "e8dc0356-c5d2-469e-9d29-aa874436cf79",
   "metadata": {},
   "outputs": [
    {
     "name": "stdout",
     "output_type": "stream",
     "text": [
      "True\n"
     ]
    }
   ],
   "source": [
    "#check = np.array([np.all(np.equal(valdi_batch, valdi_batch0)) for valdi_batch, valdi_batch0 in zip(valid_batch, valid_batch0)])\n",
    "#print(np.all(check))"
   ]
  },
  {
   "cell_type": "code",
   "execution_count": 17,
   "id": "b3c53906-4233-477d-b576-b63f4092a66a",
   "metadata": {},
   "outputs": [
    {
     "name": "stderr",
     "output_type": "stream",
     "text": [
      "100%|██████████████████████████████████████████████████████████████████████████████████████████████████████| 5000/5000 [00:36<00:00, 136.07it/s]"
     ]
    },
    {
     "name": "stdout",
     "output_type": "stream",
     "text": [
      "queue size:  22577985\n",
      "CPU times: user 36 s, sys: 729 ms, total: 36.8 s\n",
      "Wall time: 36.8 s\n"
     ]
    },
    {
     "name": "stderr",
     "output_type": "stream",
     "text": [
      "\n"
     ]
    }
   ],
   "source": [
    "%%time\n",
    "# estimated runtime for 5000 news is 1min (ubuntu 37s), faster than the combo_gen(x) which costs 2min20s\n",
    "for array in tqdm(valid_batch):\n",
    "    for combo in itertools.combinations(array, 2):\n",
    "        q.put(combo)\n",
    "print(\"queue size: \",q.qsize())"
   ]
  },
  {
   "cell_type": "code",
   "execution_count": 14,
   "id": "dffa7cf0-c698-4f99-a45e-5fddb7943163",
   "metadata": {},
   "outputs": [],
   "source": [
    "# Convert the queue to a DataFrame\n",
    "df_q = pd.DataFrame(list(q.queue), columns=['t0', 't1'])\n",
    "\n",
    "# Write the DataFrame to a feather file\n",
    "feather.write_feather(df_q, \"queue.feather\")"
   ]
  },
  {
   "cell_type": "code",
   "execution_count": 15,
   "id": "17a0645e-f155-4e68-9282-43d13af9aa82",
   "metadata": {},
   "outputs": [],
   "source": [
    "def df_modify(tuple_pair, df, ref_map):\n",
    "    \"\"\"\n",
    "    modify the dataframe df that increase the count by 1 if 2 tickers were mentioned in the same news article\n",
    "    no return, modify the dataframe directly\n",
    "    \"\"\"\n",
    "    df[ref_map[tuple_pair[0]], ref_map[tuple_pair[1]]] += 1"
   ]
  },
  {
   "cell_type": "code",
   "execution_count": null,
   "id": "4872283d-e89e-4ad1-8dae-3a1440560ba4",
   "metadata": {},
   "outputs": [],
   "source": [
    "%%time\n",
    "df = knn_ticker\n",
    "ref_map = ticker_maping\n",
    "\n",
    "def process_tuple(tuple_pair, df, ref_map):\n",
    "    df_modify(tuple_pair, df, ref_map)\n",
    "\n",
    "with concurrent.futures.ThreadPoolExecutor(max_workers=max_workers) as executor:\n",
    "    futures = [executor.submit(process_tuple, tuple_pair, df, ref_map) for tuple_pair in tqdm(list(q.queue))]\n",
    "    concurrent.futures.wait(futures)"
   ]
  },
  {
   "cell_type": "code",
   "execution_count": 41,
   "id": "930fc558-af94-4611-9a43-fec27b26c803",
   "metadata": {},
   "outputs": [],
   "source": [
    "knn_df = pd.DataFrame.sparse.from_spmatrix(knn_ticker, columns=ticker_arr, index=ticker_arr)"
   ]
  },
  {
   "cell_type": "code",
   "execution_count": 43,
   "id": "6420574b-ae5f-4583-90c7-500cfbcfaa26",
   "metadata": {},
   "outputs": [
    {
     "data": {
      "text/plain": [
       "1.0"
      ]
     },
     "execution_count": 43,
     "metadata": {},
     "output_type": "execute_result"
    }
   ],
   "source": []
  },
  {
   "cell_type": "code",
   "execution_count": null,
   "id": "151fc6f2-e44b-4a88-9433-cdf7816b0fd6",
   "metadata": {},
   "outputs": [],
   "source": []
  },
  {
   "cell_type": "code",
   "execution_count": null,
   "id": "2fcbb3bb-a2d3-459b-b46b-6f3d2d7311f8",
   "metadata": {},
   "outputs": [],
   "source": []
  },
  {
   "cell_type": "code",
   "execution_count": 27,
   "id": "01b22e08-cc27-4767-b160-8768bd76c199",
   "metadata": {},
   "outputs": [],
   "source": [
    "#CUDF"
   ]
  },
  {
   "cell_type": "code",
   "execution_count": 1,
   "id": "0ff1df1a-5f95-4d26-9896-dbaf64f222ce",
   "metadata": {},
   "outputs": [],
   "source": [
    "import cuda\n",
    "import numba\n",
    "import cudf\n",
    "import cupy\n",
    "from scipy import sparse"
   ]
  },
  {
   "cell_type": "code",
   "execution_count": 2,
   "id": "856eff3d-408f-42b4-ab09-ea55de182c8e",
   "metadata": {},
   "outputs": [
    {
     "name": "stderr",
     "output_type": "stream",
     "text": [
      "/home/peterzerg/miniconda3/envs/rapids-22.12/lib/python3.8/site-packages/cudf/io/feather.py:15: UserWarning: Using CPU via PyArrow to read feather dataset, this may be GPU accelerated in the future\n",
      "  warnings.warn(\n"
     ]
    }
   ],
   "source": [
    "df_snap = cudf.read_feather(\"local_snapshot_us_equity\")\n",
    "news_df = cudf.read_feather(\"local_us_equity_news\").head(5000)"
   ]
  },
  {
   "cell_type": "code",
   "execution_count": 25,
   "id": "757bd093-2fd1-4dae-8b7c-5b9a8d03b10e",
   "metadata": {},
   "outputs": [],
   "source": [
    "df = df_snap[[\"ticker\"]]\n",
    "df = df.sort_values(by='ticker')\n",
    "df = df.reset_index()[[\"ticker\"]]\n",
    "df = df.reset_index()"
   ]
  },
  {
   "cell_type": "code",
   "execution_count": 27,
   "id": "795e3a7e-04c9-4918-8c21-d96f9ca630cd",
   "metadata": {},
   "outputs": [],
   "source": [
    "n = df.shape[0]\n",
    "ticker_maping = df.set_index('ticker').to_dict()['index']"
   ]
  },
  {
   "cell_type": "code",
   "execution_count": 33,
   "id": "ae8cb43b-0bde-437e-af24-3f5754721949",
   "metadata": {},
   "outputs": [],
   "source": [
    "valid_ticker_set = set(ticker_maping.keys())"
   ]
  },
  {
   "cell_type": "code",
   "execution_count": 59,
   "id": "7d6a9b1c-6478-4a71-8af1-963ef4a90821",
   "metadata": {},
   "outputs": [],
   "source": [
    "data_df = news_df[[\"tickers\"]].to_pandas()\n",
    "def to_set(tickers, ticker_maping):\n",
    "    return np.asarray(set(ticker_maping[tick] for tick in tickers if tick in valid_ticker_set))\n",
    "data_df = cudf.DataFrame(data_df['tickers'].apply(lambda tickers: to_set(tickers, ticker_maping)))\n",
    "data_df.reset_index(inplace=True)\n",
    "data_df = data_df[[\"tickers\"]]"
   ]
  },
  {
   "cell_type": "code",
   "execution_count": 70,
   "id": "4cd4afb1-5ba6-4277-889b-053d391ce0f5",
   "metadata": {},
   "outputs": [],
   "source": [
    "knn_ticker = cupy.zeros((n,n))"
   ]
  },
  {
   "cell_type": "code",
   "execution_count": 82,
   "id": "dbc565ab-4412-4f5f-a8ef-72ae0cac3158",
   "metadata": {},
   "outputs": [],
   "source": [
    "from numba import cuda\n",
    "@cuda.jit\n",
    "def combo_gen(tickers):\n",
    "    return list(itertools.combinations(tickers,2))"
   ]
  },
  {
   "cell_type": "code",
   "execution_count": 84,
   "id": "1f659bf4-89b3-4ccf-9857-5841bb943020",
   "metadata": {},
   "outputs": [
    {
     "ename": "ValueError",
     "evalue": "user defined function compilation failed.",
     "output_type": "error",
     "traceback": [
      "\u001b[0;31m---------------------------------------------------------------------------\u001b[0m",
      "\u001b[0;31mAttributeError\u001b[0m                            Traceback (most recent call last)",
      "File \u001b[0;32m~/miniconda3/envs/rapids-22.12/lib/python3.8/site-packages/cudf/core/indexed_frame.py:2014\u001b[0m, in \u001b[0;36mIndexedFrame._apply\u001b[0;34m(self, func, kernel_getter, *args, **kwargs)\u001b[0m\n\u001b[1;32m   2013\u001b[0m \u001b[38;5;28;01mtry\u001b[39;00m:\n\u001b[0;32m-> 2014\u001b[0m     kernel, retty \u001b[38;5;241m=\u001b[39m \u001b[43m_compile_or_get\u001b[49m\u001b[43m(\u001b[49m\n\u001b[1;32m   2015\u001b[0m \u001b[43m        \u001b[49m\u001b[38;5;28;43mself\u001b[39;49m\u001b[43m,\u001b[49m\u001b[43m \u001b[49m\u001b[43mfunc\u001b[49m\u001b[43m,\u001b[49m\u001b[43m \u001b[49m\u001b[43margs\u001b[49m\u001b[43m,\u001b[49m\u001b[43m \u001b[49m\u001b[43mkernel_getter\u001b[49m\u001b[38;5;241;43m=\u001b[39;49m\u001b[43mkernel_getter\u001b[49m\n\u001b[1;32m   2016\u001b[0m \u001b[43m    \u001b[49m\u001b[43m)\u001b[49m\n\u001b[1;32m   2017\u001b[0m \u001b[38;5;28;01mexcept\u001b[39;00m \u001b[38;5;167;01mException\u001b[39;00m \u001b[38;5;28;01mas\u001b[39;00m e:\n",
      "File \u001b[0;32m~/miniconda3/envs/rapids-22.12/lib/python3.8/contextlib.py:75\u001b[0m, in \u001b[0;36mContextDecorator.__call__.<locals>.inner\u001b[0;34m(*args, **kwds)\u001b[0m\n\u001b[1;32m     74\u001b[0m \u001b[38;5;28;01mwith\u001b[39;00m \u001b[38;5;28mself\u001b[39m\u001b[38;5;241m.\u001b[39m_recreate_cm():\n\u001b[0;32m---> 75\u001b[0m     \u001b[38;5;28;01mreturn\u001b[39;00m \u001b[43mfunc\u001b[49m\u001b[43m(\u001b[49m\u001b[38;5;241;43m*\u001b[39;49m\u001b[43margs\u001b[49m\u001b[43m,\u001b[49m\u001b[43m \u001b[49m\u001b[38;5;241;43m*\u001b[39;49m\u001b[38;5;241;43m*\u001b[39;49m\u001b[43mkwds\u001b[49m\u001b[43m)\u001b[49m\n",
      "File \u001b[0;32m~/miniconda3/envs/rapids-22.12/lib/python3.8/site-packages/cudf/core/udf/utils.py:214\u001b[0m, in \u001b[0;36m_compile_or_get\u001b[0;34m(frame, func, args, kernel_getter)\u001b[0m\n\u001b[1;32m    213\u001b[0m \u001b[38;5;66;03m# check to see if we already compiled this function\u001b[39;00m\n\u001b[0;32m--> 214\u001b[0m cache_key \u001b[38;5;241m=\u001b[39m \u001b[43m_generate_cache_key\u001b[49m\u001b[43m(\u001b[49m\u001b[43mframe\u001b[49m\u001b[43m,\u001b[49m\u001b[43m \u001b[49m\u001b[43mfunc\u001b[49m\u001b[43m)\u001b[49m\n\u001b[1;32m    215\u001b[0m \u001b[38;5;28;01mif\u001b[39;00m precompiled\u001b[38;5;241m.\u001b[39mget(cache_key) \u001b[38;5;129;01mis\u001b[39;00m \u001b[38;5;129;01mnot\u001b[39;00m \u001b[38;5;28;01mNone\u001b[39;00m:\n",
      "File \u001b[0;32m~/miniconda3/envs/rapids-22.12/lib/python3.8/site-packages/cudf/core/udf/utils.py:182\u001b[0m, in \u001b[0;36m_generate_cache_key\u001b[0;34m(frame, func)\u001b[0m\n\u001b[1;32m    174\u001b[0m \u001b[38;5;250m\u001b[39m\u001b[38;5;124;03m\"\"\"Create a cache key that uniquely identifies a compilation.\u001b[39;00m\n\u001b[1;32m    175\u001b[0m \n\u001b[1;32m    176\u001b[0m \u001b[38;5;124;03mA new compilation is needed any time any of the following things change:\u001b[39;00m\n\u001b[0;32m   (...)\u001b[0m\n\u001b[1;32m    179\u001b[0m \u001b[38;5;124;03m- The existence of the input columns masks\u001b[39;00m\n\u001b[1;32m    180\u001b[0m \u001b[38;5;124;03m\"\"\"\u001b[39;00m\n\u001b[1;32m    181\u001b[0m \u001b[38;5;28;01mreturn\u001b[39;00m (\n\u001b[0;32m--> 182\u001b[0m     \u001b[38;5;241m*\u001b[39m\u001b[43mcudautils\u001b[49m\u001b[38;5;241;43m.\u001b[39;49m\u001b[43mmake_cache_key\u001b[49m\u001b[43m(\u001b[49m\n\u001b[1;32m    183\u001b[0m \u001b[43m        \u001b[49m\u001b[43mfunc\u001b[49m\u001b[43m,\u001b[49m\u001b[43m \u001b[49m\u001b[38;5;28;43mtuple\u001b[39;49m\u001b[43m(\u001b[49m\u001b[43m_all_dtypes_from_frame\u001b[49m\u001b[43m(\u001b[49m\u001b[43mframe\u001b[49m\u001b[43m)\u001b[49m\u001b[38;5;241;43m.\u001b[39;49m\u001b[43mvalues\u001b[49m\u001b[43m(\u001b[49m\u001b[43m)\u001b[49m\u001b[43m)\u001b[49m\n\u001b[1;32m    184\u001b[0m \u001b[43m    \u001b[49m\u001b[43m)\u001b[49m,\n\u001b[1;32m    185\u001b[0m     \u001b[38;5;241m*\u001b[39m(col\u001b[38;5;241m.\u001b[39mmask \u001b[38;5;129;01mis\u001b[39;00m \u001b[38;5;28;01mNone\u001b[39;00m \u001b[38;5;28;01mfor\u001b[39;00m col \u001b[38;5;129;01min\u001b[39;00m frame\u001b[38;5;241m.\u001b[39m_data\u001b[38;5;241m.\u001b[39mvalues()),\n\u001b[1;32m    186\u001b[0m     \u001b[38;5;241m*\u001b[39mframe\u001b[38;5;241m.\u001b[39m_data\u001b[38;5;241m.\u001b[39mkeys(),\n\u001b[1;32m    187\u001b[0m )\n",
      "File \u001b[0;32m~/miniconda3/envs/rapids-22.12/lib/python3.8/site-packages/cudf/utils/cudautils.py:202\u001b[0m, in \u001b[0;36mmake_cache_key\u001b[0;34m(udf, sig)\u001b[0m\n\u001b[1;32m    200\u001b[0m names \u001b[38;5;241m=\u001b[39m udf\u001b[38;5;241m.\u001b[39m\u001b[38;5;18m__code__\u001b[39m\u001b[38;5;241m.\u001b[39mco_names\n\u001b[0;32m--> 202\u001b[0m \u001b[38;5;28;01mif\u001b[39;00m \u001b[43mudf\u001b[49m\u001b[38;5;241;43m.\u001b[39;49m\u001b[38;5;18;43m__closure__\u001b[39;49m \u001b[38;5;129;01mis\u001b[39;00m \u001b[38;5;129;01mnot\u001b[39;00m \u001b[38;5;28;01mNone\u001b[39;00m:\n\u001b[1;32m    203\u001b[0m     cvars \u001b[38;5;241m=\u001b[39m \u001b[38;5;28mtuple\u001b[39m(x\u001b[38;5;241m.\u001b[39mcell_contents \u001b[38;5;28;01mfor\u001b[39;00m x \u001b[38;5;129;01min\u001b[39;00m udf\u001b[38;5;241m.\u001b[39m\u001b[38;5;18m__closure__\u001b[39m)\n",
      "\u001b[0;31mAttributeError\u001b[0m: 'CUDADispatcher' object has no attribute '__closure__'",
      "\nThe above exception was the direct cause of the following exception:\n",
      "\u001b[0;31mValueError\u001b[0m                                Traceback (most recent call last)",
      "Cell \u001b[0;32mIn[84], line 1\u001b[0m\n\u001b[0;32m----> 1\u001b[0m \u001b[43mdata_df\u001b[49m\u001b[38;5;241;43m.\u001b[39;49m\u001b[43mtickers\u001b[49m\u001b[38;5;241;43m.\u001b[39;49m\u001b[43mapply\u001b[49m\u001b[43m(\u001b[49m\u001b[43mcombo_gen\u001b[49m\u001b[43m)\u001b[49m\n",
      "File \u001b[0;32m~/miniconda3/envs/rapids-22.12/lib/python3.8/contextlib.py:75\u001b[0m, in \u001b[0;36mContextDecorator.__call__.<locals>.inner\u001b[0;34m(*args, **kwds)\u001b[0m\n\u001b[1;32m     72\u001b[0m \u001b[38;5;129m@wraps\u001b[39m(func)\n\u001b[1;32m     73\u001b[0m \u001b[38;5;28;01mdef\u001b[39;00m \u001b[38;5;21minner\u001b[39m(\u001b[38;5;241m*\u001b[39margs, \u001b[38;5;241m*\u001b[39m\u001b[38;5;241m*\u001b[39mkwds):\n\u001b[1;32m     74\u001b[0m     \u001b[38;5;28;01mwith\u001b[39;00m \u001b[38;5;28mself\u001b[39m\u001b[38;5;241m.\u001b[39m_recreate_cm():\n\u001b[0;32m---> 75\u001b[0m         \u001b[38;5;28;01mreturn\u001b[39;00m \u001b[43mfunc\u001b[49m\u001b[43m(\u001b[49m\u001b[38;5;241;43m*\u001b[39;49m\u001b[43margs\u001b[49m\u001b[43m,\u001b[49m\u001b[43m \u001b[49m\u001b[38;5;241;43m*\u001b[39;49m\u001b[38;5;241;43m*\u001b[39;49m\u001b[43mkwds\u001b[49m\u001b[43m)\u001b[49m\n",
      "File \u001b[0;32m~/miniconda3/envs/rapids-22.12/lib/python3.8/site-packages/cudf/core/series.py:2426\u001b[0m, in \u001b[0;36mSeries.apply\u001b[0;34m(self, func, convert_dtype, args, **kwargs)\u001b[0m\n\u001b[1;32m   2423\u001b[0m \u001b[38;5;28;01mif\u001b[39;00m convert_dtype \u001b[38;5;129;01mis\u001b[39;00m \u001b[38;5;129;01mnot\u001b[39;00m \u001b[38;5;28;01mTrue\u001b[39;00m:\n\u001b[1;32m   2424\u001b[0m     \u001b[38;5;28;01mraise\u001b[39;00m \u001b[38;5;167;01mValueError\u001b[39;00m(\u001b[38;5;124m\"\u001b[39m\u001b[38;5;124mSeries.apply only supports convert_dtype=True\u001b[39m\u001b[38;5;124m\"\u001b[39m)\n\u001b[0;32m-> 2426\u001b[0m result \u001b[38;5;241m=\u001b[39m \u001b[38;5;28;43mself\u001b[39;49m\u001b[38;5;241;43m.\u001b[39;49m\u001b[43m_apply\u001b[49m\u001b[43m(\u001b[49m\u001b[43mfunc\u001b[49m\u001b[43m,\u001b[49m\u001b[43m \u001b[49m\u001b[43m_get_scalar_kernel\u001b[49m\u001b[43m,\u001b[49m\u001b[43m \u001b[49m\u001b[38;5;241;43m*\u001b[39;49m\u001b[43margs\u001b[49m\u001b[43m,\u001b[49m\u001b[43m \u001b[49m\u001b[38;5;241;43m*\u001b[39;49m\u001b[38;5;241;43m*\u001b[39;49m\u001b[43mkwargs\u001b[49m\u001b[43m)\u001b[49m\n\u001b[1;32m   2427\u001b[0m result\u001b[38;5;241m.\u001b[39mname \u001b[38;5;241m=\u001b[39m \u001b[38;5;28mself\u001b[39m\u001b[38;5;241m.\u001b[39mname\n\u001b[1;32m   2428\u001b[0m \u001b[38;5;28;01mreturn\u001b[39;00m result\n",
      "File \u001b[0;32m~/miniconda3/envs/rapids-22.12/lib/python3.8/contextlib.py:75\u001b[0m, in \u001b[0;36mContextDecorator.__call__.<locals>.inner\u001b[0;34m(*args, **kwds)\u001b[0m\n\u001b[1;32m     72\u001b[0m \u001b[38;5;129m@wraps\u001b[39m(func)\n\u001b[1;32m     73\u001b[0m \u001b[38;5;28;01mdef\u001b[39;00m \u001b[38;5;21minner\u001b[39m(\u001b[38;5;241m*\u001b[39margs, \u001b[38;5;241m*\u001b[39m\u001b[38;5;241m*\u001b[39mkwds):\n\u001b[1;32m     74\u001b[0m     \u001b[38;5;28;01mwith\u001b[39;00m \u001b[38;5;28mself\u001b[39m\u001b[38;5;241m.\u001b[39m_recreate_cm():\n\u001b[0;32m---> 75\u001b[0m         \u001b[38;5;28;01mreturn\u001b[39;00m \u001b[43mfunc\u001b[49m\u001b[43m(\u001b[49m\u001b[38;5;241;43m*\u001b[39;49m\u001b[43margs\u001b[49m\u001b[43m,\u001b[49m\u001b[43m \u001b[49m\u001b[38;5;241;43m*\u001b[39;49m\u001b[38;5;241;43m*\u001b[39;49m\u001b[43mkwds\u001b[49m\u001b[43m)\u001b[49m\n",
      "File \u001b[0;32m~/miniconda3/envs/rapids-22.12/lib/python3.8/site-packages/cudf/core/indexed_frame.py:2018\u001b[0m, in \u001b[0;36mIndexedFrame._apply\u001b[0;34m(self, func, kernel_getter, *args, **kwargs)\u001b[0m\n\u001b[1;32m   2014\u001b[0m     kernel, retty \u001b[38;5;241m=\u001b[39m _compile_or_get(\n\u001b[1;32m   2015\u001b[0m         \u001b[38;5;28mself\u001b[39m, func, args, kernel_getter\u001b[38;5;241m=\u001b[39mkernel_getter\n\u001b[1;32m   2016\u001b[0m     )\n\u001b[1;32m   2017\u001b[0m \u001b[38;5;28;01mexcept\u001b[39;00m \u001b[38;5;167;01mException\u001b[39;00m \u001b[38;5;28;01mas\u001b[39;00m e:\n\u001b[0;32m-> 2018\u001b[0m     \u001b[38;5;28;01mraise\u001b[39;00m \u001b[38;5;167;01mValueError\u001b[39;00m(\n\u001b[1;32m   2019\u001b[0m         \u001b[38;5;124m\"\u001b[39m\u001b[38;5;124muser defined function compilation failed.\u001b[39m\u001b[38;5;124m\"\u001b[39m\n\u001b[1;32m   2020\u001b[0m     ) \u001b[38;5;28;01mfrom\u001b[39;00m \u001b[38;5;21;01me\u001b[39;00m\n\u001b[1;32m   2022\u001b[0m \u001b[38;5;66;03m# Mask and data column preallocated\u001b[39;00m\n\u001b[1;32m   2023\u001b[0m ans_col \u001b[38;5;241m=\u001b[39m _return_arr_from_dtype(retty, \u001b[38;5;28mlen\u001b[39m(\u001b[38;5;28mself\u001b[39m))\n",
      "\u001b[0;31mValueError\u001b[0m: user defined function compilation failed."
     ]
    }
   ],
   "source": [
    "data_df.tickers.apply(combo_gen)"
   ]
  },
  {
   "cell_type": "code",
   "execution_count": 92,
   "id": "26182bda-88a6-455c-b192-c1dc9e45100c",
   "metadata": {},
   "outputs": [
    {
     "name": "stdout",
     "output_type": "stream",
     "text": [
      "CPU times: user 19 ms, sys: 18 ms, total: 37 ms\n",
      "Wall time: 26.7 ms\n"
     ]
    }
   ],
   "source": [
    "%%time\n",
    "df_snap = feather.read_feather(\"local_snapshot_us_equity\")\n",
    "ticker_arr = df_snap.ticker.to_numpy() # us equity tickers\n",
    "ticker_arr.sort()\n",
    "valid_ticker_set = set(ticker_arr)\n",
    "ticker_maping = {k: v for v, k in enumerate(ticker_arr)} # dictionary allows for quick lookups of the integer index corresponding to a particular ticker symbol."
   ]
  },
  {
   "cell_type": "code",
   "execution_count": null,
   "id": "dfadb78c-6ded-4a03-ace8-f16c28603970",
   "metadata": {},
   "outputs": [],
   "source": []
  },
  {
   "cell_type": "code",
   "execution_count": null,
   "id": "54984293-9d4a-462b-8039-4bf4b5d90987",
   "metadata": {},
   "outputs": [],
   "source": []
  },
  {
   "cell_type": "code",
   "execution_count": null,
   "id": "e06328ef-64ca-4364-ac7a-ff1be3e6878d",
   "metadata": {},
   "outputs": [],
   "source": [
    "for i in tqdm(range(n)):\n",
    "    tickers = data_df.tickers.iloc[i]\n",
    "    combo = combo_gen(tickers)\n",
    "    for j in range(len(combo)):\n",
    "        pair = combo[j]\n",
    "        knn_ticker[pair[0],pair[1]]+=1"
   ]
  }
 ],
 "metadata": {
  "kernelspec": {
   "display_name": "Python 3 (ipykernel)",
   "language": "python",
   "name": "python3"
  },
  "language_info": {
   "codemirror_mode": {
    "name": "ipython",
    "version": 3
   },
   "file_extension": ".py",
   "mimetype": "text/x-python",
   "name": "python",
   "nbconvert_exporter": "python",
   "pygments_lexer": "ipython3",
   "version": "3.8.15"
  }
 },
 "nbformat": 4,
 "nbformat_minor": 5
}
